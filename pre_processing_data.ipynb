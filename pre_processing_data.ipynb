{
 "cells": [
  {
   "cell_type": "code",
   "execution_count": null,
   "metadata": {},
   "outputs": [],
   "source": [
    "from __future__ import absolute_import\n",
    "from model.config import Config\n",
    "from model.data_utils import *"
   ]
  },
  {
   "cell_type": "code",
   "execution_count": null,
   "metadata": {},
   "outputs": [],
   "source": [
    "config = Config(load=False)\n",
    "processing_word = get_processing_word(lowercase=True)\n",
    "\n",
    "dev = PreProcessData(config.f_dev, processing_word)\n",
    "test = PreProcessData(config.f_test, processing_word)\n",
    "train = PreProcessData(config.f_train, processing_word)\n",
    "\n",
    "vocab_words, vocab_tags = processing_vocab([train, dev, test])\n",
    "vocab_glove = glove_vocab(config.f_glove)\n",
    "\n",
    "vocab = vocab_words & vocab_glove\n",
    "vocab.add(UNK) \n",
    "vocab.add(NUM)\n",
    "\n",
    "writing_vocab(vocab, config.f_words)\n",
    "writing_vocab(vocab_tags, config.f_tags)\n",
    "vocab1 = load_dict(config.f_words)\n",
    "exp_trimmed_glove_vector(vocab1, config.f_glove, config.f_trimmed,config.dim_word)\n",
    "train_data = PreProcessData(config.f_train)\n",
    "vocab_chars = processing_char_vocab(train_data)\n",
    "writing_vocab(vocab_chars, config.f_chars)"
   ]
  },
  {
   "cell_type": "code",
   "execution_count": null,
   "metadata": {},
   "outputs": [],
   "source": []
  }
 ],
 "metadata": {
  "kernelspec": {
   "display_name": "Python 2",
   "language": "python",
   "name": "python2"
  },
  "language_info": {
   "codemirror_mode": {
    "name": "ipython",
    "version": 2
   },
   "file_extension": ".py",
   "mimetype": "text/x-python",
   "name": "python",
   "nbconvert_exporter": "python",
   "pygments_lexer": "ipython2",
   "version": "2.7.14"
  }
 },
 "nbformat": 4,
 "nbformat_minor": 2
}
